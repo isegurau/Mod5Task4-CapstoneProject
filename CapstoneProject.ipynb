{
 "cells": [
  {
   "cell_type": "code",
   "execution_count": 1,
   "metadata": {},
   "outputs": [],
   "source": [
    "import numpy as np\n",
    "import pandas as pd\n",
    "from pandas import Series, DataFrame\n",
    "import seaborn as sns \n",
    "import matplotlib.pyplot as plt #similar to Seaborn library\n",
    "import numpy as np\n",
    "\n",
    "#estimators\n",
    "from sklearn.ensemble import RandomForestClassifier\n",
    "from sklearn.model_selection import StratifiedKFold\n",
    "from sklearn.feature_selection import RFECV\n",
    "from sklearn import svm\n",
    "from sklearn import linear_model\n",
    "\n",
    "#model metrics\n",
    "from sklearn.metrics import mean_squared_error\n",
    "from sklearn.metrics import r2_score\n",
    "from sklearn.model_selection import cross_val_score\n",
    "from sklearn.metrics import classification_report, confusion_matrix\n",
    "\n",
    "#cross validation\n",
    "#replaced cross_validation with model_selection\n",
    "from sklearn.model_selection import train_test_split\n",
    "\n",
    "#Import scikit-learn metrics module for accuracy calculation\n",
    "from sklearn import metrics\n",
    "from sklearn.neighbors import KNeighborsClassifier\n"
   ]
  },
  {
   "cell_type": "code",
   "execution_count": 2,
   "metadata": {},
   "outputs": [],
   "source": [
    "###-------------------------------------------------------------------------------------------------------------------------------------###\n",
    "                                                            ### DATA LOADING ###\n",
    "###-------------------------------------------------------------------------------------------------------------------------------------###"
   ]
  },
  {
   "cell_type": "code",
   "execution_count": null,
   "metadata": {},
   "outputs": [],
   "source": [
    "#Load the initial dataset\n",
    "df = pd.ExcelFile(r\"C:\\Users\\i_seg\\OneDrive\\BIG DATA\\DATA ANALISYS\\MODULE5\\Task4\\US_Accidents_Dec19_NY.xlsx\")"
   ]
  },
  {
   "cell_type": "code",
   "execution_count": 3,
   "metadata": {},
   "outputs": [
    {
     "data": {
      "text/html": [
       "<div>\n",
       "<style scoped>\n",
       "    .dataframe tbody tr th:only-of-type {\n",
       "        vertical-align: middle;\n",
       "    }\n",
       "\n",
       "    .dataframe tbody tr th {\n",
       "        vertical-align: top;\n",
       "    }\n",
       "\n",
       "    .dataframe thead th {\n",
       "        text-align: right;\n",
       "    }\n",
       "</style>\n",
       "<table border=\"1\" class=\"dataframe\">\n",
       "  <thead>\n",
       "    <tr style=\"text-align: right;\">\n",
       "      <th></th>\n",
       "      <th>ID</th>\n",
       "      <th>Source</th>\n",
       "      <th>TMC</th>\n",
       "      <th>Severity</th>\n",
       "      <th>Start_Time</th>\n",
       "      <th>End_Time</th>\n",
       "      <th>Start_Lat</th>\n",
       "      <th>Start_Lng</th>\n",
       "      <th>End_Lat</th>\n",
       "      <th>End_Lng</th>\n",
       "      <th>...</th>\n",
       "      <th>Roundabout</th>\n",
       "      <th>Station</th>\n",
       "      <th>Stop</th>\n",
       "      <th>Traffic_Calming</th>\n",
       "      <th>Traffic_Signal</th>\n",
       "      <th>Turning_Loop</th>\n",
       "      <th>Sunrise_Sunset</th>\n",
       "      <th>Civil_Twilight</th>\n",
       "      <th>Nautical_Twilight</th>\n",
       "      <th>Astronomical_Twilight</th>\n",
       "    </tr>\n",
       "  </thead>\n",
       "  <tbody>\n",
       "    <tr>\n",
       "      <td>0</td>\n",
       "      <td>A-194257</td>\n",
       "      <td>MapQuest</td>\n",
       "      <td>241</td>\n",
       "      <td>3</td>\n",
       "      <td>2016-11-30 16:25:41</td>\n",
       "      <td>2016-11-30 17:10:30</td>\n",
       "      <td>41.139324</td>\n",
       "      <td>-74.169876</td>\n",
       "      <td>NaN</td>\n",
       "      <td>NaN</td>\n",
       "      <td>...</td>\n",
       "      <td>False</td>\n",
       "      <td>False</td>\n",
       "      <td>False</td>\n",
       "      <td>False</td>\n",
       "      <td>False</td>\n",
       "      <td>False</td>\n",
       "      <td>Day</td>\n",
       "      <td>Day</td>\n",
       "      <td>Day</td>\n",
       "      <td>Day</td>\n",
       "    </tr>\n",
       "    <tr>\n",
       "      <td>1</td>\n",
       "      <td>A-194258</td>\n",
       "      <td>MapQuest</td>\n",
       "      <td>201</td>\n",
       "      <td>3</td>\n",
       "      <td>2016-11-30 15:40:06</td>\n",
       "      <td>2016-11-30 17:09:40</td>\n",
       "      <td>41.118748</td>\n",
       "      <td>-74.159744</td>\n",
       "      <td>NaN</td>\n",
       "      <td>NaN</td>\n",
       "      <td>...</td>\n",
       "      <td>False</td>\n",
       "      <td>False</td>\n",
       "      <td>False</td>\n",
       "      <td>False</td>\n",
       "      <td>False</td>\n",
       "      <td>False</td>\n",
       "      <td>Day</td>\n",
       "      <td>Day</td>\n",
       "      <td>Day</td>\n",
       "      <td>Day</td>\n",
       "    </tr>\n",
       "    <tr>\n",
       "      <td>2</td>\n",
       "      <td>A-194259</td>\n",
       "      <td>MapQuest</td>\n",
       "      <td>201</td>\n",
       "      <td>3</td>\n",
       "      <td>2016-11-30 15:26:18</td>\n",
       "      <td>2016-11-30 16:56:02</td>\n",
       "      <td>41.014034</td>\n",
       "      <td>-73.717239</td>\n",
       "      <td>NaN</td>\n",
       "      <td>NaN</td>\n",
       "      <td>...</td>\n",
       "      <td>False</td>\n",
       "      <td>False</td>\n",
       "      <td>False</td>\n",
       "      <td>False</td>\n",
       "      <td>False</td>\n",
       "      <td>False</td>\n",
       "      <td>Day</td>\n",
       "      <td>Day</td>\n",
       "      <td>Day</td>\n",
       "      <td>Day</td>\n",
       "    </tr>\n",
       "    <tr>\n",
       "      <td>3</td>\n",
       "      <td>A-194260</td>\n",
       "      <td>MapQuest</td>\n",
       "      <td>201</td>\n",
       "      <td>3</td>\n",
       "      <td>2016-11-30 16:14:11</td>\n",
       "      <td>2016-11-30 16:59:00</td>\n",
       "      <td>41.390369</td>\n",
       "      <td>-73.597969</td>\n",
       "      <td>NaN</td>\n",
       "      <td>NaN</td>\n",
       "      <td>...</td>\n",
       "      <td>False</td>\n",
       "      <td>False</td>\n",
       "      <td>False</td>\n",
       "      <td>False</td>\n",
       "      <td>False</td>\n",
       "      <td>False</td>\n",
       "      <td>Day</td>\n",
       "      <td>Day</td>\n",
       "      <td>Day</td>\n",
       "      <td>Day</td>\n",
       "    </tr>\n",
       "    <tr>\n",
       "      <td>4</td>\n",
       "      <td>A-194261</td>\n",
       "      <td>MapQuest</td>\n",
       "      <td>201</td>\n",
       "      <td>3</td>\n",
       "      <td>2016-11-30 16:17:57</td>\n",
       "      <td>2016-11-30 17:02:44</td>\n",
       "      <td>41.390369</td>\n",
       "      <td>-73.597969</td>\n",
       "      <td>NaN</td>\n",
       "      <td>NaN</td>\n",
       "      <td>...</td>\n",
       "      <td>False</td>\n",
       "      <td>False</td>\n",
       "      <td>False</td>\n",
       "      <td>False</td>\n",
       "      <td>False</td>\n",
       "      <td>False</td>\n",
       "      <td>Day</td>\n",
       "      <td>Day</td>\n",
       "      <td>Day</td>\n",
       "      <td>Day</td>\n",
       "    </tr>\n",
       "  </tbody>\n",
       "</table>\n",
       "<p>5 rows × 49 columns</p>\n",
       "</div>"
      ],
      "text/plain": [
       "         ID    Source  TMC  Severity          Start_Time            End_Time  \\\n",
       "0  A-194257  MapQuest  241         3 2016-11-30 16:25:41 2016-11-30 17:10:30   \n",
       "1  A-194258  MapQuest  201         3 2016-11-30 15:40:06 2016-11-30 17:09:40   \n",
       "2  A-194259  MapQuest  201         3 2016-11-30 15:26:18 2016-11-30 16:56:02   \n",
       "3  A-194260  MapQuest  201         3 2016-11-30 16:14:11 2016-11-30 16:59:00   \n",
       "4  A-194261  MapQuest  201         3 2016-11-30 16:17:57 2016-11-30 17:02:44   \n",
       "\n",
       "   Start_Lat  Start_Lng  End_Lat  End_Lng  ...  Roundabout Station   Stop  \\\n",
       "0  41.139324 -74.169876      NaN      NaN  ...       False   False  False   \n",
       "1  41.118748 -74.159744      NaN      NaN  ...       False   False  False   \n",
       "2  41.014034 -73.717239      NaN      NaN  ...       False   False  False   \n",
       "3  41.390369 -73.597969      NaN      NaN  ...       False   False  False   \n",
       "4  41.390369 -73.597969      NaN      NaN  ...       False   False  False   \n",
       "\n",
       "  Traffic_Calming Traffic_Signal Turning_Loop Sunrise_Sunset Civil_Twilight  \\\n",
       "0           False          False        False            Day            Day   \n",
       "1           False          False        False            Day            Day   \n",
       "2           False          False        False            Day            Day   \n",
       "3           False          False        False            Day            Day   \n",
       "4           False          False        False            Day            Day   \n",
       "\n",
       "  Nautical_Twilight Astronomical_Twilight  \n",
       "0               Day                   Day  \n",
       "1               Day                   Day  \n",
       "2               Day                   Day  \n",
       "3               Day                   Day  \n",
       "4               Day                   Day  \n",
       "\n",
       "[5 rows x 49 columns]"
      ]
     },
     "execution_count": 3,
     "metadata": {},
     "output_type": "execute_result"
    }
   ],
   "source": [
    "# Check the first 5 rows of the data frame\n",
    "accidentsDF = df.parse(\"Sheet1\")\n",
    "accidentsDF.head()"
   ]
  },
  {
   "cell_type": "code",
   "execution_count": 4,
   "metadata": {},
   "outputs": [
    {
     "data": {
      "text/plain": [
       "Index(['ID', 'Source', 'TMC', 'Severity', 'Start_Time', 'End_Time',\n",
       "       'Start_Lat', 'Start_Lng', 'End_Lat', 'End_Lng', 'Distance(mi)',\n",
       "       'Description', 'Number', 'Street', 'Side', 'City', 'County', 'State',\n",
       "       'Zipcode', 'Country', 'Timezone', 'Airport_Code', 'Weather_Timestamp',\n",
       "       'Temperature(F)', 'Wind_Chill(F)', 'Humidity(%)', 'Pressure(in)',\n",
       "       'Visibility(mi)', 'Wind_Direction', 'Wind_Speed(mph)',\n",
       "       'Precipitation(in)', 'Weather_Condition', 'Amenity', 'Bump', 'Crossing',\n",
       "       'Give_Way', 'Junction', 'No_Exit', 'Railway', 'Roundabout', 'Station',\n",
       "       'Stop', 'Traffic_Calming', 'Traffic_Signal', 'Turning_Loop',\n",
       "       'Sunrise_Sunset', 'Civil_Twilight', 'Nautical_Twilight',\n",
       "       'Astronomical_Twilight'],\n",
       "      dtype='object')"
      ]
     },
     "execution_count": 4,
     "metadata": {},
     "output_type": "execute_result"
    }
   ],
   "source": [
    "# Column names\n",
    "accidentsDF.columns"
   ]
  },
  {
   "cell_type": "code",
   "execution_count": 11,
   "metadata": {},
   "outputs": [
    {
     "name": "stdout",
     "output_type": "stream",
     "text": [
      "<class 'pandas.core.frame.DataFrame'>\n",
      "Int64Index: 11147 entries, 102 to 54384\n",
      "Data columns (total 42 columns):\n",
      "Source                   11147 non-null category\n",
      "TMC                      11147 non-null int64\n",
      "Severity                 11147 non-null int64\n",
      "Start_Time               11147 non-null datetime64[ns]\n",
      "End_Time                 11147 non-null datetime64[ns]\n",
      "Start_Lat                11147 non-null float64\n",
      "Start_Lng                11147 non-null float64\n",
      "Distance(mi)             11147 non-null float64\n",
      "Description              11147 non-null object\n",
      "Number                   11147 non-null float64\n",
      "Street                   11147 non-null object\n",
      "Side                     11147 non-null category\n",
      "City                     11147 non-null object\n",
      "County                   11147 non-null object\n",
      "Zipcode                  11147 non-null object\n",
      "Airport_Code             11147 non-null category\n",
      "Weather_Timestamp        11147 non-null datetime64[ns]\n",
      "Temperature(F)           11147 non-null float64\n",
      "Wind_Chill(F)            11147 non-null float64\n",
      "Humidity(%)              11147 non-null float64\n",
      "Pressure(in)             11147 non-null float64\n",
      "Visibility(mi)           11147 non-null float64\n",
      "Wind_Direction           11147 non-null category\n",
      "Wind_Speed(mph)          11147 non-null float64\n",
      "Precipitation(in)        11147 non-null float64\n",
      "Weather_Condition        11147 non-null category\n",
      "Amenity                  11147 non-null bool\n",
      "Bump                     11147 non-null bool\n",
      "Crossing                 11147 non-null bool\n",
      "Give_Way                 11147 non-null bool\n",
      "Junction                 11147 non-null bool\n",
      "No_Exit                  11147 non-null bool\n",
      "Railway                  11147 non-null bool\n",
      "Roundabout               11147 non-null bool\n",
      "Station                  11147 non-null bool\n",
      "Stop                     11147 non-null bool\n",
      "Traffic_Calming          11147 non-null bool\n",
      "Traffic_Signal           11147 non-null bool\n",
      "Sunrise_Sunset           11147 non-null category\n",
      "Civil_Twilight           11147 non-null category\n",
      "Nautical_Twilight        11147 non-null category\n",
      "Astronomical_Twilight    11147 non-null category\n",
      "dtypes: bool(12), category(9), datetime64[ns](3), float64(11), int64(2), object(5)\n",
      "memory usage: 2.1+ MB\n"
     ]
    }
   ],
   "source": [
    "# Information about the data set\n",
    "accidentsDF.info()\n",
    "#source: category\n",
    "#TMC: numeric\n",
    "#Severity: Category (dependent variable)\n",
    "#Start_Time: time\n",
    "#End_Time: time\n",
    "#Start_Lat :float\n",
    "#Start_Lng  :float\n",
    "#End_Lat: float\n",
    "#End_Lng :float\n",
    "#Distance: float\n",
    "#Number: int\n",
    "#Street:string\n",
    "#Side:string\n",
    "#City: string\n",
    "#County: string\n",
    "#Zipcode:int\n",
    "#Timezone:category\n",
    "#Airport_Code:string\n",
    "#Weather_Timestamp: Datetime\n",
    "#Temperature: float\n",
    "#Wind_Chill(F):float\n",
    "#Humidity: Int\n",
    "#Pressure:float\n",
    "#Visibility: float\n",
    "#Wind_Direction: category\n"
   ]
  },
  {
   "cell_type": "code",
   "execution_count": 4,
   "metadata": {},
   "outputs": [
    {
     "data": {
      "image/png": "[encoded data removed]",
      "text/plain": [
       "<Figure size 720x360 with 1 Axes>"
      ]
     },
     "metadata": {
      "needs_background": "light"
     },
     "output_type": "display_data"
    }
   ],
   "source": [
    "###-------------------------------------------------------------------------------------------------------------------------------------###\n",
    "                                                            ### EDA SECTION ###\n",
    "###-------------------------------------------------------------------------------------------------------------------------------------###"
   ]
  },
  {
   "cell_type": "code",
   "execution_count": null,
   "metadata": {},
   "outputs": [],
   "source": [
    "#Total accidents by source\n",
    "city_count  = accidentsDF['Source'].value_counts()\n",
    "city_count = city_count[:10,]\n",
    "plt.figure(figsize=(10,5))\n",
    "sns.barplot(city_count.index, city_count.values, alpha=0.8)\n",
    "plt.title('Total accidents by Source')\n",
    "plt.ylabel('Total', fontsize=12)\n",
    "plt.xlabel('Source', fontsize=12)\n",
    "plt.box(False)\n",
    "plt.show()"
   ]
  },
  {
   "cell_type": "code",
   "execution_count": 5,
   "metadata": {},
   "outputs": [
    {
     "data": {
      "image/png": "[encoded data removed]",
      "text/plain": [
       "<Figure size 720x360 with 1 Axes>"
      ]
     },
     "metadata": {
      "needs_background": "light"
     },
     "output_type": "display_data"
    }
   ],
   "source": [
    "#Total accidents by source\n",
    "city_count  = accidentsDF['Severity'].value_counts()\n",
    "city_count = city_count[:10,]\n",
    "plt.figure(figsize=(10,5))\n",
    "sns.barplot(city_count.index, city_count.values, alpha=0.8)\n",
    "plt.title('Total accidents by Severity')\n",
    "plt.ylabel('Total', fontsize=12)\n",
    "plt.xlabel('Severity', fontsize=12)\n",
    "plt.box(False)\n",
    "plt.show()"
   ]
  },
  {
   "cell_type": "code",
   "execution_count": 7,
   "metadata": {},
   "outputs": [
    {
     "data": {
      "image/png": "[encoded data removed]",
      "text/plain": [
       "<Figure size 720x360 with 1 Axes>"
      ]
     },
     "metadata": {
      "needs_background": "light"
     },
     "output_type": "display_data"
    }
   ],
   "source": [
    "# Plotting a bar graph of the number of accidents  by TMC. Top 10\n",
    "tmc_count  = accidentsDF['TMC'].value_counts()\n",
    "tmc_count = tmc_count[:10,]\n",
    "plt.figure(figsize=(10,5))\n",
    "sns.barplot(tmc_count.index, tmc_count.values, alpha=0.8)\n",
    "plt.title('Traffic Message Channel Top 10')\n",
    "plt.ylabel('Number of Accidents', fontsize=12)\n",
    "plt.xlabel('Channel', fontsize=12)\n",
    "plt.box(False)\n",
    "plt.show()"
   ]
  },
  {
   "cell_type": "code",
   "execution_count": 12,
   "metadata": {},
   "outputs": [
    {
     "data": {
      "image/png": "[encoded data removed]",
      "text/plain": [
       "<Figure size 720x360 with 1 Axes>"
      ]
     },
     "metadata": {
      "needs_background": "light"
     },
     "output_type": "display_data"
    }
   ],
   "source": [
    "#Total accidents by Side (Left,Right)\n",
    "city_count  = accidentsDF['Side'].value_counts()\n",
    "city_count = city_count[:10,]\n",
    "plt.figure(figsize=(10,5))\n",
    "sns.barplot(city_count.index, city_count.values, alpha=0.8)\n",
    "plt.title('Total accidents by Side')\n",
    "plt.ylabel('Number of Accidents', fontsize=12)\n",
    "plt.xlabel('Side', fontsize=12)\n",
    "plt.box(False)\n",
    "plt.show()"
   ]
  },
  {
   "cell_type": "code",
   "execution_count": 17,
   "metadata": {},
   "outputs": [
    {
     "data": {
      "image/png": "[encoded data removed]",
      "text/plain": [
       "<Figure size 720x360 with 1 Axes>"
      ]
     },
     "metadata": {
      "needs_background": "light"
     },
     "output_type": "display_data"
    }
   ],
   "source": [
    "# Plotting a bar graph of the number of accidents in each city, for the first ten cities listed\n",
    "# in the column 'City'\n",
    "city_count  = accidentsDF['City'].value_counts()\n",
    "city_count = city_count[:10,]\n",
    "plt.figure(figsize=(10,5))\n",
    "sns.barplot(city_count.index, city_count.values, alpha=0.8)\n",
    "plt.title('Total accidents by City')\n",
    "plt.ylabel('Total', fontsize=12)\n",
    "plt.xlabel('City', fontsize=12)\n",
    "plt.box(False)\n",
    "plt.show()"
   ]
  },
  {
   "cell_type": "code",
   "execution_count": 8,
   "metadata": {},
   "outputs": [
    {
     "data": {
      "image/png": "[encoded data removed]",
      "text/plain": [
       "<Figure size 720x360 with 1 Axes>"
      ]
     },
     "metadata": {
      "needs_background": "light"
     },
     "output_type": "display_data"
    }
   ],
   "source": [
    "# Plotting a bar graph of the number of accidents by distance. Top 5\n",
    "#Extensión del recorrido afectado por el accidente\n",
    "filter_count  = accidentsDF['Distance(mi)'].value_counts()\n",
    "filter_count = filter_count[:5,]\n",
    "plt.figure(figsize=(10,5))\n",
    "sns.barplot(filter_count.index, filter_count.values, alpha=0.8)\n",
    "plt.title('Total accidents by Distance (mi)')\n",
    "plt.ylabel('Total', fontsize=12)\n",
    "plt.xlabel('Distance', fontsize=12)\n",
    "plt.box(False)\n",
    "plt.show()"
   ]
  },
  {
   "cell_type": "code",
   "execution_count": 9,
   "metadata": {},
   "outputs": [
    {
     "data": {
      "image/png": "[encoded data removed]",
      "text/plain": [
       "<Figure size 720x360 with 1 Axes>"
      ]
     },
     "metadata": {
      "needs_background": "light"
     },
     "output_type": "display_data"
    }
   ],
   "source": [
    "# Plotting a bar graph of the number of accidents by weather conditions. Top 10\n",
    "filter_count  = accidentsDF['Weather_Condition'].value_counts()\n",
    "filter_count = filter_count[:5,]\n",
    "plt.figure(figsize=(10,5))\n",
    "sns.barplot(filter_count.index, filter_count.values, alpha=0.8)\n",
    "plt.title('Total accidents by Weather Condition')\n",
    "plt.ylabel('Total', fontsize=12)\n",
    "plt.xlabel('Weather', fontsize=12)\n",
    "plt.box(False)\n",
    "plt.show()"
   ]
  },
  {
   "cell_type": "code",
   "execution_count": 61,
   "metadata": {},
   "outputs": [
    {
     "data": {
      "text/plain": [
       "<seaborn.axisgrid.FacetGrid at 0x1b8312d8508>"
      ]
     },
     "execution_count": 61,
     "metadata": {},
     "output_type": "execute_result"
    },
    {
     "data": {
      "image/png": "[encoded data removed]",
      "text/plain": [
       "<Figure size 630x360 with 1 Axes>"
      ]
     },
     "metadata": {
      "needs_background": "light"
     },
     "output_type": "display_data"
    }
   ],
   "source": [
    "#Total accidents by Amenity \n",
    "g = sns.factorplot('Amenity', data=accidentsDF,  kind='count', aspect=1.75)\n",
    "g.set_xlabels('Amenity')"
   ]
  },
  {
   "cell_type": "code",
   "execution_count": 65,
   "metadata": {},
   "outputs": [
    {
     "data": {
      "text/plain": [
       "<matplotlib.axes._subplots.AxesSubplot at 0x1b833b75348>"
      ]
     },
     "execution_count": 65,
     "metadata": {},
     "output_type": "execute_result"
    },
    {
     "data": {
      "image/png": "[encoded data removed]",
      "text/plain": [
       "<Figure size 432x288 with 1 Axes>"
      ]
     },
     "metadata": {
      "needs_background": "light"
     },
     "output_type": "display_data"
    }
   ],
   "source": [
    "# Another way to plot a histogram of temperature is shown below\n",
    "accidentsDF['Temperature(F)'].hist(bins=50)"
   ]
  },
  {
   "cell_type": "code",
   "execution_count": 10,
   "metadata": {},
   "outputs": [
    {
     "data": {
      "text/plain": [
       "<matplotlib.axes._subplots.AxesSubplot at 0x1ef4c87ffc8>"
      ]
     },
     "execution_count": 10,
     "metadata": {},
     "output_type": "execute_result"
    },
    {
     "data": {
      "image/png": "[encoded data removed]",
      "text/plain": [
       "<Figure size 432x288 with 1 Axes>"
      ]
     },
     "metadata": {},
     "output_type": "display_data"
    }
   ],
   "source": [
    "accidentsDF.groupby(['Severity','Weather_Condition']).size().head(5).plot(kind='pie')"
   ]
  },
  {
   "cell_type": "code",
   "execution_count": null,
   "metadata": {},
   "outputs": [],
   "source": [
    "###-------------------------------------------------------------------------------------------------------------------------------------###\n",
    "                                                            ### DATA PREPARATION ###\n",
    "###-------------------------------------------------------------------------------------------------------------------------------------###"
   ]
  },
  {
   "cell_type": "code",
   "execution_count": null,
   "metadata": {},
   "outputs": [],
   "source": [
    "#Lets delete columns with all values null or with only one value\n",
    "accidentsDF=accidentsDF.drop(columns=['End_Lat','End_Lng','ID','Country','State','Turning_Loop','Timezone'])"
   ]
  },
  {
   "cell_type": "code",
   "execution_count": null,
   "metadata": {},
   "outputs": [],
   "source": [
    "# fill missing values with mean column values\n",
    "accidentsDF= accidentsDF.fillna(accidentsDF.mean(), inplace=True)"
   ]
  },
  {
   "cell_type": "code",
   "execution_count": null,
   "metadata": {},
   "outputs": [],
   "source": [
    "#Drop rows which contains any NaN or missing value that were not replace with mean column values\n",
    "#accidentsDF = accidentsDF.dropna()\n",
    "accidentsDF.fillna(1, inplace=True)"
   ]
  },
  {
   "cell_type": "code",
   "execution_count": null,
   "metadata": {},
   "outputs": [],
   "source": [
    "#Check missing values by column\n",
    "accidentsDF.isnull().sum(axis = 0)\n",
    "#No missing values"
   ]
  },
  {
   "cell_type": "code",
   "execution_count": null,
   "metadata": {},
   "outputs": [],
   "source": [
    "#CORRELATION\n",
    "corrMat = accidentsDF.corr()\n",
    "print(corrMat)"
   ]
  },
  {
   "cell_type": "code",
   "execution_count": null,
   "metadata": {},
   "outputs": [],
   "source": [
    "#### Feature Engineering Correlation ####\n",
    "#Removing Correlated Features, applying RFE\n",
    "correlated_features = set()\n",
    "correlation_matrix = accidentsDF.drop('Severity', axis=1).corr()\n",
    "\n",
    "for i in range(len(correlation_matrix.columns)):\n",
    "    for j in range(i):\n",
    "        if abs(correlation_matrix.iloc[i, j]) > 0.9:\n",
    "            colname = correlation_matrix.columns[i]\n",
    "            correlated_features.add(colname)"
   ]
  },
  {
   "cell_type": "code",
   "execution_count": null,
   "metadata": {},
   "outputs": [],
   "source": [
    "#correlated features\n",
    "correlated_features\n",
    "#{'Traffic_Calming', 'Wind_Chill(F)'}"
   ]
  },
  {
   "cell_type": "code",
   "execution_count": null,
   "metadata": {},
   "outputs": [],
   "source": [
    "#remove string columns and also Start_Time and End_Time because I found this variables are directly related with the dependen variable. Start_Lat and Start_Lng because they represents an specific point and \n",
    "#the goal of this model is predict the severity according to variables that can be used in other similar conditions\n",
    "#Traffic_Calming because of correlation with Wind_Chill\n",
    "#Roundabout only has one value in all rows(false)\n",
    "accidentsDF=accidentsDF.drop([\"Start_Time\", \"End_Time\",\"Weather_Timestamp\",\"Description\",\"Street\",\"City\",\"County\",\"Zipcode\",\"Start_Lat\",\"Start_Lng\",\"Traffic_Calming\",\"Roundabout\"], axis=1)"
   ]
  },
  {
   "cell_type": "code",
   "execution_count": null,
   "metadata": {},
   "outputs": [],
   "source": [
    "# Convert columns to the correct datatype\n",
    "accidentsDF['Severity'] = accidentsDF.Severity.astype('category')\n",
    "\n",
    "accidentsDF[\"Source\"]=accidentsDF[\"Source\"].replace({\"MapQuest\": 1, \"MapQuest-Bing\": 2})\n",
    "accidentsDF['Source'] = accidentsDF.Source.astype('category')\n",
    "\n",
    "accidentsDF[\"Side\"]=accidentsDF[\"Side\"].replace({\"L\": 1, \"R\": 2})\n",
    "accidentsDF['Side'] = accidentsDF.Side.astype('category')\n",
    "\n",
    "accidentsDF[\"Airport_Code\"]=accidentsDF[\"Airport_Code\"].replace({\"KALB\": 1, \"KBGM\": 2, \"KBUF\": 3, \"KDXR\": 4, \"KEWR\": 5, \"KFRG\": 6, \"KFWN\": 7, \"KGFL\": 8, \"KHPN\": 9, \"KISP\": 10\n",
    "                                                                , \"KJFK\": 11, \"KJRB\": 12, \"KLDJ\": 13, \"KLGA\": 15, \"KMGJ\": 16, \"KNYC\": 17, \"KPOU\": 18, \"KPSF\": 19, \"KRME\": 20, \"KROC\": 21\n",
    "                                                                , \"KSCH\": 22, \"KSWF\": 23, \"KSYR\": 24, \"KHWV\":25,\"KCDW\":26,\"K6B0\":27,\"KAQW\":28,\"KDDH\":29,\"KDKK\":30,\"KDSV\":31,\"KELM\":32\n",
    "                                                                ,\"KELZ\":33,\"KERI\":34,\"KFOK\":35,\"KFSO\":36,\"KFZY\":37,\"KGTB\":38,\"KHTO\":39,\"KIAG\":40,\"KJHW\":41,\"KMSS\":42,\"KMSV\":43,\"KMTP\":44\n",
    "                                                                ,\"KN03\":45,\"KOGS\":46,\"KOLE\":47,\"KPBG\":48,\"KPEO\":49,\"KRUT\":50,\"KSLK\":51,\"KTEB\":52})\n",
    "accidentsDF['Airport_Code'] = accidentsDF.Airport_Code.astype('category')\n",
    "\n",
    "accidentsDF[\"Wind_Direction\"]=accidentsDF[\"Wind_Direction\"].replace({\"Calm\": 1,\"CALM\":1, \"E\": 2, \"East\": 3, \"ENE\": 4, \"ESE\": 5, \"N\": 6, \"NE\": 7, \"NNE\": 8, \"NNW\": 9, \"North\": 10\n",
    "                                                                , \"NW\": 11, \"S\": 12, \"SE\": 13, \"South\": 15, \"SSE\": 16, \"SSW\": 17, \"SW\": 18, \"VAR\": 19, \"Variable\": 20, \"W\": 21\n",
    "                                                                , \"West\": 22, \"WNW\": 23, \"WSW\": 24})\n",
    "accidentsDF['Wind_Direction'] = accidentsDF.Wind_Direction.astype('category')\n",
    "\n",
    "\n",
    "accidentsDF[\"Weather_Condition\"]=accidentsDF[\"Weather_Condition\"].replace({\"Clear\": 1, \"Cloudy\": 2, \"Drizzle\": 3, \"Fair\": 4, \"Fog\": 5, \"Haze\": 6, \"Heavy Rain\": 7,\"Rain / Windy\":7,\"Heavy Rain / Windy\": 7,\"Light Drizzle\": 8,\"Light Drizzle / Windy\": 8, \"Light Freezing Fog\": 9,\"Patches of Fog\":9, \"Light Rain\":10,\"Light Rain / Windy\":10\n",
    "                                                                ,\"Light Rain with Thunder\":10,\"Light Sleet\":11, \"Light Snow\":11,\"Light Snow / Windy\":11,\"Light Snow Shower\":11, \"Light Thunderstorms and Rain\":12, \"Mostly Cloudy\":13,\"Mostly Cloudy / Windy\":13,\"Cloudy / Windy\":13, \"Overcast\":15, \"Partly Cloudy\":16,\"Partly Cloudy / Windy\":16, \"Rain\":17, \"Scattered Clouds\":18\n",
    "                                                                , \"Shallow Fog\": 19, \"Snow\": 20,\"Thunder\":21, \"Thunderstorm\": 21,\"Thunder / Windy\":21,\"Thunder in the Vicinity\":21,\"Mist\":22,\"Light Freezing Rain\":23,\"Freezing Rain\":23,\"Light Freezing Drizzle\":23,\"Blowing Snow\":24,\"Drizzle and Fog\":25,\"Fair / Windy\":26,\"Fog / Windy\":27,\"Heavy Drizzle\":28\n",
    "                                                                ,\"Heavy Sleet\":29,\"Heavy Snow\":30,\"Heavy Snow / Windy\":30,\"Thunderstorms and Rain\":31,\"Heavy Thunderstorms and Rain\":31,\"T-Storm\":31,\"Heavy T-Storm\":31,\"T-Storm / Windy\":31,\"Heavy T-Storm / Windy\":31,\"Ice Pellets\":32,\"Light Ice Pellets\":32,\"N/A Precipitation\":33,\"Wintry Mix\":34,\"Wintry Mix / Windy\":34\n",
    "                                                                })\n",
    "accidentsDF['Weather_Condition'] = accidentsDF.Weather_Condition.astype('category')\n",
    "\n",
    "accidentsDF[\"Sunrise_Sunset\"]=accidentsDF[\"Sunrise_Sunset\"].replace({\"Day\": 1, \"Night\": 2})\n",
    "accidentsDF['Sunrise_Sunset'] = accidentsDF.Sunrise_Sunset.astype('category')\n",
    "\n",
    "accidentsDF[\"Civil_Twilight\"]=accidentsDF[\"Civil_Twilight\"].replace({\"Day\": 1, \"Night\": 2})\n",
    "accidentsDF['Civil_Twilight'] = accidentsDF.Civil_Twilight.astype('category')\n",
    "\n",
    "accidentsDF[\"Nautical_Twilight\"]=accidentsDF[\"Nautical_Twilight\"].replace({\"Day\": 1, \"Night\": 2})\n",
    "accidentsDF['Nautical_Twilight'] = accidentsDF.Nautical_Twilight.astype('category')\n",
    "\n",
    "accidentsDF[\"Astronomical_Twilight\"]=accidentsDF[\"Astronomical_Twilight\"].replace({\"Day\": 1, \"Night\": 2})\n",
    "accidentsDF['Astronomical_Twilight'] = accidentsDF.Astronomical_Twilight.astype('category')\n",
    "\n",
    "accidentsDF[\"Bump\"]=accidentsDF[\"Bump\"].replace({True: 1, False: 0})\n",
    "accidentsDF['Bump'] = accidentsDF.Bump.astype('category')\n",
    "\n",
    "accidentsDF[\"No_Exit\"]=accidentsDF[\"No_Exit\"].replace({True: 1, False: 0})\n",
    "accidentsDF['No_Exit'] = accidentsDF.No_Exit.astype('category')"
   ]
  },
  {
   "cell_type": "code",
   "execution_count": null,
   "metadata": {},
   "outputs": [],
   "source": [
    "#Running RFECV to get the more important features\n",
    "X = accidentsDF.drop([\"Severity\"], axis=1)\n",
    "target = accidentsDF['Severity']\n",
    "\n",
    "rfc = RandomForestClassifier(random_state=101)\n",
    "rfecv = RFECV(estimator=rfc, step=1, cv=StratifiedKFold(10), scoring='accuracy')\n",
    "rfecv.fit(X, target)"
   ]
  },
  {
   "cell_type": "code",
   "execution_count": null,
   "metadata": {},
   "outputs": [],
   "source": [
    "#accuracy obtained with every number of features used:\n",
    "from sklearn.model_selection import StratifiedKFold\n",
    "from sklearn.feature_selection import RFECV\n",
    "plt.figure(figsize=(16, 9))\n",
    "plt.title('Recursive Feature Elimination with Cross-Validation', fontsize=18, fontweight='bold', pad=20)\n",
    "plt.xlabel('Number of features selected', fontsize=14, labelpad=20)\n",
    "plt.ylabel('% Correct Classification', fontsize=14, labelpad=20)\n",
    "plt.plot(range(1, len(rfecv.grid_scores_) + 1), rfecv.grid_scores_, color='#303F9F', linewidth=3)\n",
    "\n",
    "plt.show()"
   ]
  },
  {
   "cell_type": "code",
   "execution_count": null,
   "metadata": {},
   "outputs": [],
   "source": [
    "print('Optimal number of features: {}'.format(rfecv.n_features_))"
   ]
  },
  {
   "cell_type": "code",
   "execution_count": null,
   "metadata": {},
   "outputs": [],
   "source": [
    "# create a DataFrame object with attributes as one column and the importance as the other, \n",
    "#and then sort the DataFrame by importance in descending order. \n",
    "dset = pd.DataFrame()\n",
    "cols = rfecv.get_support(indices=True) #column names\n",
    "dset['attr'] = X.iloc[:,cols].columns\n",
    "dset['importance'] = rfecv.estimator_.feature_importances_ #column importance\n",
    "\n",
    "#sort the dataset by importance\n",
    "dset = dset.sort_values(by='importance', ascending=False)\n",
    "\n",
    "#create and show the chart\n",
    "plt.figure(figsize=(16, 14))\n",
    "plt.barh(y=dset['attr'], width=dset['importance'], color='#1976D2')\n",
    "plt.title('RFECV - Features Importance', fontsize=20, fontweight='bold', pad=20)\n",
    "plt.xlabel('Importance', fontsize=14, labelpad=20)\n",
    "plt.show()"
   ]
  },
  {
   "cell_type": "code",
   "execution_count": null,
   "metadata": {},
   "outputs": [],
   "source": [
    "#See the important of each attribute\n",
    "dset['importance']"
   ]
  },
  {
   "cell_type": "code",
   "execution_count": null,
   "metadata": {},
   "outputs": [],
   "source": [
    "#See the column names\n",
    "#Based on the RFE applied, the variables that have more than 40% of importance are the ones we will use to train the model:\n",
    "# Number, Airport_Code, Pressure(in), Humidity(%), Temperature(F), Wind_Speed(mph), Wind_Direction, Wind_Chill(F)\n",
    "# Distance(m), Weather_Condition\n",
    "X.columns"
   ]
  },
  {
   "cell_type": "code",
   "execution_count": null,
   "metadata": {},
   "outputs": [],
   "source": [
    "#Delete columns that are not over 40% of importance\n",
    "accidentsDF= accidentsDF.drop(columns=['Railway', 'Give_Way','Stop', 'Amenity','Station', 'Source','Astronomical_Twilight','Nautical_Twilight',#\n",
    "                            'Crossing','Civil_Twilight', 'Sunrise_Sunset', 'Junction', 'Traffic_Signal', 'Visibility(mi)', 'Precipitation(in)','Side',\"TMC\"])"
   ]
  },
  {
   "cell_type": "code",
   "execution_count": null,
   "metadata": {},
   "outputs": [],
   "source": [
    "#export the final dataset\n",
    "export_csv = accidentsDF.to_csv(r'C:\\Users\\i_seg\\Documents\\BIG DATA\\DATA ANALISYS\\MODULE5\\Task4\\AccidentsCleanData.csv', index = None, header=True)"
   ]
  },
  {
   "cell_type": "code",
   "execution_count": null,
   "metadata": {},
   "outputs": [],
   "source": [
    "###-------------------------------------------------------------------------------------------------------------------------------------###\n",
    "                                                            ### MODELING ###\n",
    "###-------------------------------------------------------------------------------------------------------------------------------------###"
   ]
  },
  {
   "cell_type": "code",
   "execution_count": null,
   "metadata": {},
   "outputs": [],
   "source": [
    "infoDF = pd.read_csv(r\"C:\\Users\\i_seg\\Documents\\BIG DATA\\DATA ANALISYS\\MODULE5\\Task4\\AccidentsCleanData.csv\", header =0)"
   ]
  },
  {
   "cell_type": "code",
   "execution_count": null,
   "metadata": {},
   "outputs": [],
   "source": [
    "infoDF.rename(columns={\"Wind_Chill(F)\": \"Wind_Chill\"}, inplace = True)"
   ]
  },
  {
   "cell_type": "code",
   "execution_count": null,
   "metadata": {},
   "outputs": [],
   "source": [
    "#parse columns to category.\n",
    "infoDF['Severity'] = infoDF.Severity.astype('category')\n",
    "infoDF['Airport_Code'] = infoDF.Airport_Code.astype('category')\n",
    "infoDF['Wind_Direction'] = infoDF.Wind_Direction.astype('category')\n",
    "infoDF['Wind_Chill'] = infoDF.Wind_Chill.astype('category')\n",
    "infoDF['Weather_Condition'] = infoDF.Weather_Condition.astype('category')\n",
    "infoDF['Bump'] = infoDF.Bump.astype('category')\n",
    "infoDF['No_Exit'] = infoDF.No_Exit.astype('category')"
   ]
  },
  {
   "cell_type": "code",
   "execution_count": null,
   "metadata": {},
   "outputs": [],
   "source": [
    "#Explore the attributes\n",
    "infoDF.info()"
   ]
  },
  {
   "cell_type": "code",
   "execution_count": null,
   "metadata": {},
   "outputs": [],
   "source": [
    "#Define the independent variables\n",
    "features = infoDF.iloc[:,1:13]\n",
    "print('Summary of feature sample')\n",
    "features.head()"
   ]
  },
  {
   "cell_type": "code",
   "execution_count": null,
   "metadata": {},
   "outputs": [],
   "source": [
    "#Define the dependent variable\n",
    "depVar = infoDF['Severity']"
   ]
  },
  {
   "cell_type": "code",
   "execution_count": null,
   "metadata": {},
   "outputs": [],
   "source": [
    "# split data into training and test data \n",
    "X_train, X_test, y_train, y_test = train_test_split(features, depVar, \n",
    "                                                    train_size=0.75,\n",
    "                                                    test_size=0.25,\n",
    "                                                    random_state=123)"
   ]
  },
  {
   "cell_type": "code",
   "execution_count": null,
   "metadata": {},
   "outputs": [],
   "source": [
    "#check the split\n",
    "X_train.shape, X_test.shape\n",
    "#((40838, 12), (13613, 12))"
   ]
  },
  {
   "cell_type": "code",
   "execution_count": null,
   "metadata": {},
   "outputs": [],
   "source": [
    "#+++++++++++++++++++++++++++++First Model RFC ++++++++++++++++++++++++++++++++++++++++++++++++++++++++++++++++\n",
    "#Parameters: n_estimators specifies the number of trees in the forest of the model. \n",
    "#the default value for this parameter is 10, which means that 10 different decision trees will be constructed in the random forest.\n",
    "#min_samples_split: The min_samples_split parameter specifies the minimum number of samples required to split an internal leaf node. \n",
    "#The default value for this parameter is 2, which means that an internal node must have at least two samples before it can be split to have a more specific classification.\n",
    "\n",
    "#clf = RandomForestClassifier(n_jobs=10, random_state=101, n_estimators = 55, min_samples_split = 35)\n",
    "#this parameter are the result of apply tuning parameters\n",
    "clf = RandomForestClassifier(n_jobs=10, random_state=101, n_estimators = 1400, min_samples_split = 35,max_features= 'auto')"
   ]
  },
  {
   "cell_type": "code",
   "execution_count": null,
   "metadata": {},
   "outputs": [],
   "source": [
    "#Model Fitting\n",
    "clf.fit(X_train,y_train)\n",
    "rfc_cv_score = cross_val_score(clf, X_train, y_train, cv=10)"
   ]
  },
  {
   "cell_type": "code",
   "execution_count": null,
   "metadata": {},
   "outputs": [],
   "source": [
    "#The roc_auc scoring used in the cross-validation model shows the area under the ROC curve.\n",
    "print(\"=== All AUC Scores ===\")\n",
    "print(rfc_cv_score)\n",
    "print(\"Mean AUC Score - Random Forest: \", rfc_cv_score.mean())\n",
    "\n",
    "clf.score(X_train,y_train)"
   ]
  },
  {
   "cell_type": "code",
   "execution_count": null,
   "metadata": {},
   "outputs": [],
   "source": [
    "#Predict the response for test dataset\n",
    "y_pred = clf.predict(X_test)\n",
    "# Model Accuracy\n",
    "print(\"Accuracy:\",metrics.accuracy_score(y_test, y_pred))\n",
    "# Accuracy: 0.8026666666666666 - It seems to be the parameters with the best accuracy for this model"
   ]
  },
  {
   "cell_type": "code",
   "execution_count": null,
   "metadata": {},
   "outputs": [],
   "source": [
    "#Visualize the counts  for predictions\n",
    "dfPredictions = pd.DataFrame(y_pred)\n",
    "dfPredictions.columns = ['Severity']\n",
    "dfPredictions.groupby('Severity').size().plot(kind='barh')"
   ]
  },
  {
   "cell_type": "code",
   "execution_count": null,
   "metadata": {},
   "outputs": [],
   "source": [
    "dfPredictions.groupby('Severity').size().plot(kind='pie')"
   ]
  },
  {
   "cell_type": "code",
   "execution_count": null,
   "metadata": {},
   "outputs": [],
   "source": [
    "#Visualize the count  for y_test data\n",
    "dfReal = pd.DataFrame(y_test)\n",
    "dfReal.columns = ['Severity']\n",
    "dfReal.groupby('Severity').size().plot(kind='barh')"
   ]
  },
  {
   "cell_type": "code",
   "execution_count": null,
   "metadata": {},
   "outputs": [],
   "source": [
    "#See the totals  in a table\n",
    "result.groupby(['Severity','Type']).size().reset_index().rename(columns={0:'Total'})"
   ]
  },
  {
   "cell_type": "code",
   "execution_count": null,
   "metadata": {},
   "outputs": [],
   "source": [
    "#Create a new dataframe to group all data by type and value  and be able to show a catplot\n",
    "newDF = result.groupby(['Severity','Type']).size().reset_index().rename(columns={0:'Total'})"
   ]
  },
  {
   "cell_type": "code",
   "execution_count": null,
   "metadata": {},
   "outputs": [],
   "source": [
    "sns.catplot(x=\"Severity\", y=\"Total\", hue=\"Type\", kind=\"bar\", data=newDF);"
   ]
  },
  {
   "cell_type": "code",
   "execution_count": null,
   "metadata": {},
   "outputs": [],
   "source": [
    "#Tunning other parameters to see if we can improve the performance\n",
    "rfc = RandomForestClassifier()\n",
    "from sklearn.model_selection import RandomizedSearchCV\n",
    "# number of trees in random forest\n",
    "n_estimators = [int(x) for x in np.linspace(start = 200, stop = 2000, num = 10)]\n",
    "# number of features at every split\n",
    "max_features = ['auto', 'sqrt']\n",
    "\n",
    "# max depth\n",
    "max_depth = [int(x) for x in np.linspace(100, 500, num = 11)]\n",
    "max_depth.append(None)\n",
    "# create random grid\n",
    "random_grid = {\n",
    " 'n_estimators': n_estimators,\n",
    " 'max_features': max_features,\n",
    " 'max_depth': max_depth\n",
    " }\n",
    "# Random search of parameters\n",
    "rfc_random = RandomizedSearchCV(estimator = rfc, param_distributions = random_grid, n_iter = 100, cv = 3, verbose=2, random_state=42, n_jobs = -1)\n",
    "# Fit the model\n",
    "rfc_random.fit(X_train, y_train)\n",
    "# print results\n",
    "print(rfc_random.best_params_)\n",
    "# {'n_estimators': 1600, 'max_features': 'auto', 'max_depth': None}"
   ]
  },
  {
   "cell_type": "code",
   "execution_count": null,
   "metadata": {},
   "outputs": [],
   "source": [
    "# Using the suggested  parameters after tuning\n",
    "clf = RandomForestClassifier(n_estimators = 1400, max_features= 'auto')\n",
    "clf.fit(X_train, y_train)"
   ]
  },
  {
   "cell_type": "code",
   "execution_count": null,
   "metadata": {},
   "outputs": [],
   "source": [
    "#Model Fitting\n",
    "rfc_cv_score = cross_val_score(clf, X_train, y_train, cv=10)"
   ]
  },
  {
   "cell_type": "code",
   "execution_count": null,
   "metadata": {},
   "outputs": [],
   "source": [
    "clf.score(X_train,y_train)\n",
    "# 0.9677016504236251"
   ]
  },
  {
   "cell_type": "code",
   "execution_count": null,
   "metadata": {},
   "outputs": [],
   "source": [
    "#Predict the response for test dataset\n",
    "y_pred = clf.predict(X_test)\n",
    "# Model Accuracy\n",
    "print(\"Accuracy:\",metrics.accuracy_score(y_test, y_pred))\n",
    "# Accuracy: 0.8026666666666666 - The accuracy is the same\n",
    "#0.7502387423786087"
   ]
  },
  {
   "cell_type": "code",
   "execution_count": null,
   "metadata": {},
   "outputs": [],
   "source": [
    "#Checking performance our model with classification report.\n",
    "print(classification_report(y_test, y_pred))"
   ]
  },
  {
   "cell_type": "code",
   "execution_count": null,
   "metadata": {},
   "outputs": [],
   "source": [
    "# ++++++++++++++++++++++++++++ SECOND MODEL SVM  +++++++++++++++++++++++++++++++++++++++++\n",
    "#Create a svm Classifier\n",
    "clfSVM = svm.SVC(kernel='linear') # Linear Kernel\n",
    "#Train the model using the training sets\n",
    "clfSVM.fit(X_train, y_train)"
   ]
  },
  {
   "cell_type": "code",
   "execution_count": null,
   "metadata": {},
   "outputs": [],
   "source": [
    "clfSVM.score(X_train,y_train)\n",
    "# 0.6642098045937607"
   ]
  },
  {
   "cell_type": "code",
   "execution_count": null,
   "metadata": {},
   "outputs": [],
   "source": [
    "#Tuning the SVM model using GridSearchCV\n",
    "from sklearn.svm import SVC \n",
    "from sklearn.model_selection import GridSearchCV \n",
    "param_grid = {'C': [0.5],  #is the penalty parameter of the error term. \n",
    "              'gamma': [0.5], #is a parameter for non linear hyperplanes. The higher the gamma value it tries to exactly fit the training data set(overfitting)\n",
    "              'kernel': ['rbf'] #selects the type of hyperplane used to separate the data (linear, nolinear).\n",
    "             }  \n",
    "  \n",
    "grid = GridSearchCV(SVC(), param_grid, refit = True, verbose = 3) \n",
    "  \n",
    "# fitting the model for grid search \n",
    "grid.fit(X_train, y_train) \n",
    "grid.score(X_train,y_train)\n",
    "#0.67723688721289\n",
    "#We can see the score with the tuning parameters is very similar to the first test we made"
   ]
  },
  {
   "cell_type": "code",
   "execution_count": null,
   "metadata": {},
   "outputs": [],
   "source": [
    "#Predict the response for test dataset\n",
    "y_pred = grid.predict(X_test)\n",
    "# Model Accuracy, how often is the classifier correct?\n",
    "print(\"Accuracy:\",metrics.accuracy_score(y_test, y_pred))\n",
    "#Accuracy:  0.6171306839050907"
   ]
  },
  {
   "cell_type": "code",
   "execution_count": null,
   "metadata": {},
   "outputs": [],
   "source": [
    "#Checking performance our model with classification report.\n",
    "print(classification_report(y_test, y_pred))"
   ]
  },
  {
   "cell_type": "code",
   "execution_count": null,
   "metadata": {},
   "outputs": [],
   "source": [
    "# ++++++++++++++++++++++++++++ THIRD MODEL KNN  +++++++++++++++++++++++++++++++++++++++++\n",
    "knn = KNeighborsClassifier(algorithm='auto', \n",
    "                     leaf_size=30, \n",
    "                     metric='minkowski',\n",
    "                     metric_params=None, \n",
    "                     n_jobs=1, \n",
    "                     n_neighbors=5, \n",
    "                     p=2,\n",
    "                     weights='uniform')\n",
    "knn.fit(X_train, y_train) \n",
    "\n",
    "knn.score(X_train,y_train)\n",
    "#0.787673245506636"
   ]
  },
  {
   "cell_type": "code",
   "execution_count": null,
   "metadata": {},
   "outputs": [],
   "source": [
    "#Predict the response for test dataset\n",
    "y_pred = knn.predict(X_test)\n",
    "print(\"Accuracy:\",metrics.accuracy_score(y_test, y_pred))\n",
    "#Accuracy: 0.6828766620142511"
   ]
  },
  {
   "cell_type": "code",
   "execution_count": null,
   "metadata": {},
   "outputs": [],
   "source": [
    "#Checking performance our model with classification report.\n",
    "print(classification_report(y_test, y_pred))"
   ]
  },
  {
   "cell_type": "code",
   "execution_count": null,
   "metadata": {},
   "outputs": [],
   "source": [
    "#List Hyperparameters that we want to tune.\n",
    "leaf_size = list(range(1,50))\n",
    "n_neighbors = list(range(1,30))\n",
    "p=[1,2]\n",
    "#Convert to dictionary\n",
    "hyperparameters = dict(leaf_size=leaf_size, n_neighbors=n_neighbors, p=p)\n",
    "#Create new KNN object\n",
    "knn_2 = KNeighborsClassifier()\n",
    "#Use GridSearch\n",
    "clf = GridSearchCV(knn_2, hyperparameters, cv=10)\n",
    "#Fit the model\n",
    "best_model = clf.fit(X_train, y_train)\n",
    "#Print The value of best Hyperparameters\n",
    "print('Best leaf_size:', best_model.best_estimator_.get_params()['leaf_size'])\n",
    "print('Best p:', best_model.best_estimator_.get_params()['p'])\n",
    "print('Best n_neighbors:', best_model.best_estimator_.get_params()['n_neighbors'])\n",
    "\n",
    "#Tuning result:\n",
    "#best leaf_size: 1\n",
    "#best p: 1\n",
    "#best n_neighbors: 28"
   ]
  },
  {
   "cell_type": "code",
   "execution_count": null,
   "metadata": {},
   "outputs": [],
   "source": [
    "knn = KNeighborsClassifier(algorithm='auto', \n",
    "                     leaf_size=1, \n",
    "                     metric='minkowski',\n",
    "                     metric_params=None, \n",
    "                     n_jobs=1, \n",
    "                     n_neighbors=28, \n",
    "                     p=1,\n",
    "                     weights='uniform')\n",
    "knn.fit(X_train, y_train) \n",
    "\n",
    "knn.score(X_train,y_train)\n",
    "#0.77"
   ]
  },
  {
   "cell_type": "code",
   "execution_count": null,
   "metadata": {},
   "outputs": [],
   "source": [
    "#Predict the response for test dataset\n",
    "y_pred = knn.predict(X_test)\n",
    "print(\"Accuracy:\",metrics.accuracy_score(y_test, y_pred))\n",
    "#Accuracy: 0.7846666666666666"
   ]
  },
  {
   "cell_type": "code",
   "execution_count": null,
   "metadata": {},
   "outputs": [],
   "source": [
    "#After training the three models, we can see the model with a better performance is the RandomForestClassifier"
   ]
  }
 ],
 "metadata": {
  "kernelspec": {
   "display_name": "Python 3",
   "language": "python",
   "name": "python3"
  },
  "language_info": {
   "codemirror_mode": {
    "name": "ipython",
    "version": 3
   },
   "file_extension": ".py",
   "mimetype": "text/x-python",
   "name": "python",
   "nbconvert_exporter": "python",
   "pygments_lexer": "ipython3",
   "version": "3.7.4"
  }
 },
 "nbformat": 4,
 "nbformat_minor": 4
}
